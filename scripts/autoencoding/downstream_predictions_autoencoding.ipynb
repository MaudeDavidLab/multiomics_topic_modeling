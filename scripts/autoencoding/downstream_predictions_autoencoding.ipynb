{
 "cells": [
  {
   "cell_type": "code",
   "execution_count": 1,
   "metadata": {},
   "outputs": [],
   "source": [
    "## dataset\n",
    "#import tensorflow.keras as keras\n",
    "## for Model definition/training\n",
    "from tensorflow.keras.models import Model, load_model\n",
    "from tensorflow.keras.layers import Input, Flatten, Dense, concatenate,  Dropout\n",
    "from tensorflow.keras.optimizers import Adam\n",
    "import tensorflow.keras.backend as K\n",
    "\n",
    "\n",
    "from tensorflow.keras.utils import plot_model\n",
    "from tensorflow.keras.callbacks import ModelCheckpoint\n",
    "\n",
    "## required for semi-hard triplet loss:\n",
    "from tensorflow.python.ops import array_ops\n",
    "from tensorflow.python.ops import math_ops\n",
    "from tensorflow.python.framework import dtypes\n",
    "import tensorflow as tf\n",
    "\n",
    "## for visualizing \n",
    "import matplotlib.pyplot as plt, numpy as np\n",
    "from sklearn.decomposition import PCA\n",
    "import pandas as pd\n",
    "import seaborn as sns\n",
    "\n",
    "import random\n",
    "from sklearn.model_selection import train_test_split\n",
    "from sklearn.utils import resample\n",
    "from numpy.random import RandomState\n",
    "from itertools import chain\n",
    "from scipy.stats import spearmanr\n",
    "from scipy.stats import pearsonr\n",
    "from sklearn.metrics.pairwise import cosine_similarity\n",
    "from sklearn.metrics import roc_auc_score\n",
    "from sklearn.metrics import roc_curve\n",
    "from sklearn.metrics import confusion_matrix\n",
    "from sklearn.svm import SVC\n",
    "from sklearn.linear_model import Ridge\n",
    "from sklearn.linear_model import Lasso\n",
    "from sklearn.model_selection import KFold\n",
    "from sklearn.ensemble import RandomForestClassifier\n",
    "from sklearn.linear_model import ElasticNet\n",
    "from sklearn.preprocessing import scale\n",
    "from sklearn.linear_model import LogisticRegression\n",
    "from copy import copy\n",
    "\n",
    "from collections import Counter\n",
    "from mord import LogisticAT\n",
    "import math\n",
    "from matplotlib.offsetbox import AnchoredText\n",
    "from os import listdir\n",
    "import sys\n",
    "sys.path.append('functions.py')\n",
    "%run functions.py\n",
    "%run ml_functions.py"
   ]
  },
  {
   "cell_type": "code",
   "execution_count": 2,
   "metadata": {},
   "outputs": [
    {
     "name": "stdout",
     "output_type": "stream",
     "text": [
      "(453, 5265)\n"
     ]
    }
   ],
   "source": [
    "def expandTimepoints(data, mapping, should_encode = False):\n",
    "    expanded_time = pd.DataFrame()\n",
    "    for host_name in np.unique(mapping.host_name):\n",
    "        df_small = data.loc[mapping.host_name == host_name, :]\n",
    "        if should_encode:\n",
    "            df_small = encode(df_small, autoencoder_16s)\n",
    "        expanded_timepoints = df_small.to_numpy().reshape((1, 3*df_small.shape[1]))[0]\n",
    "        expanded_time = expanded_time.append(pd.Series(expanded_timepoints), ignore_index = True)\n",
    "    expanded_time.index = np.unique(mapping.host_name)\n",
    "    return(expanded_time)\n",
    "\n",
    "x_16s, map_16s = get16sData(filt = False)\n",
    "exp_16s = expandTimepoints(x_16s, map_16s)"
   ]
  },
  {
   "cell_type": "code",
   "execution_count": 12,
   "metadata": {},
   "outputs": [
    {
     "name": "stdout",
     "output_type": "stream",
     "text": [
      "(193, 6189)\n",
      "(177, 56)\n"
     ]
    }
   ],
   "source": [
    "x_mtg,  map_mtg = getMtgData(filt = False)\n",
    "print(x_mtg.shape)\n",
    "x_mtg = x_mtg + 1\n",
    "x_mtt, map_mtt = getMttData(filt = False)\n",
    "x_mtt = x_mtt + 1\n",
    "x_mbx, map_mbx = getMetabolData()\n",
    "x_mbx = x_mbx + 1\n",
    "x_mbx_filt = filterForProkaryotes(x_mbx)\n",
    "x_mbx_filt = x_mbx_filt + 1"
   ]
  },
  {
   "cell_type": "code",
   "execution_count": 184,
   "metadata": {},
   "outputs": [],
   "source": [
    "keep = map_16s.timepoint == \"Timepoint 1\"\n",
    "map_16s_1 = map_16s.loc[keep.values, :]\n",
    "x_16s_1 = x_16s.loc[keep.values, :]\n",
    "\n",
    "keep = map_16s.timepoint == \"Timepoint 2\"\n",
    "map_16s_2 = map_16s.loc[keep.values, :]\n",
    "x_16s_2 = x_16s.loc[keep.values, :]\n",
    "\n",
    "keep = map_16s.timepoint == \"Timepoint 3\"\n",
    "map_16s_3 = map_16s.loc[keep.values, :]\n",
    "x_16s_3 = x_16s.loc[keep.values, :]"
   ]
  },
  {
   "cell_type": "code",
   "execution_count": 185,
   "metadata": {},
   "outputs": [],
   "source": [
    "samples_keep = combineOmics(x_16s, x_mtg, x_mtt, x_mbx)\n",
    "x_16s = x_16s.loc[samples_keep, :]\n",
    "x_mtg = x_mtg.loc[samples_keep, :]\n",
    "x_mtt = x_mtt.loc[samples_keep, :]\n",
    "x_mbx = x_mbx.loc[samples_keep, :]\n",
    "x_mbx_filt = x_mbx_filt.loc[samples_keep, :]\n",
    "map_16s = map_16s.loc[samples_keep, :]\n",
    "map_mtg = map_mtg.loc[samples_keep, :]\n",
    "map_mtt = map_mtt.loc[samples_keep, :]\n",
    "map_mbx = map_mbx.loc[samples_keep, :]"
   ]
  },
  {
   "cell_type": "code",
   "execution_count": 186,
   "metadata": {},
   "outputs": [],
   "source": [
    "#x_16s = x_16s.groupby(map_16s.host_name).mean()\n",
    "#x_mtg = x_mtg.groupby(map_mtg.host_name).mean()\n",
    "#x_mtt = x_mtt.groupby(map_mtt.host_name).mean()\n",
    "#x_mbx = x_mbx.groupby(map_mbx.host_name).mean()\n",
    "#x_mbx_filt = x_mbx_filt.groupby(map_mbx.host_name).mean()\n",
    "#samples_keep = combineOmics(x_16s, x_mtg, x_mtt, x_mbx)\n"
   ]
  },
  {
   "cell_type": "code",
   "execution_count": 187,
   "metadata": {},
   "outputs": [],
   "source": [
    "all_omics = pd.concat([x_16s, x_mtg, x_mtt, x_mbx], axis = 1)\n",
    "\n",
    "#map_16s = formatMapping(map_16s, samples_keep)\n",
    "#map_mtg = formatMapping(map_mtg, samples_keep)\n",
    "#map_mtt = formatMapping(map_mtt, samples_keep)\n",
    "#map_mbx = formatMapping(map_mbx, samples_keep)\n"
   ]
  },
  {
   "cell_type": "code",
   "execution_count": 188,
   "metadata": {},
   "outputs": [],
   "source": [
    "autoencoder_16s = \"weights/autoencoder/s/euclidean/500dim/ep9800_train0.049_val0.075.hdf5\"\n",
    "autoencoder_mtg = \"weights/autoencoder/mtg/braycurtis/100dim/ep4800_train0.001_val0.000.hdf5\"\n",
    "autoencoder_mtt = \"weights/autoencoder/mtt/braycurtis/25dim/ep3900_train0.001_val0.000.hdf5\"\n",
    "autoencoder_mbx = \"weights/autoencoder/metabol/braycurtis/200dim/ep100_train0.007_val0.103.hdf5\"\n",
    "#autoencoder_mbx_filt = \"weights/autoencoder/metabol/\"\n",
    "\n",
    "encoded_16s = encode(x_16s, autoencoder_16s)\n",
    "encoded_mtg = encode(x_mtg, autoencoder_mtg)\n",
    "encoded_mtt = encode(x_mtt, autoencoder_mtt)\n",
    "encoded_mbx = encode(x_mbx, autoencoder_mbx)\n",
    "#encoded_mbx_filt = encode(x_mbx_filt, autoencoder_mbx_filt)\n",
    "\n",
    "all_omics_encoded = pd.concat([encoded_16s, encoded_mtg, encoded_mtt, encoded_mbx], axis = 1)"
   ]
  },
  {
   "cell_type": "code",
   "execution_count": 189,
   "metadata": {},
   "outputs": [
    {
     "name": "stdout",
     "output_type": "stream",
     "text": [
      "1.0\n",
      "1.0\n",
      "1.0\n",
      "1.0\n",
      "1.0\n",
      "1.0\n"
     ]
    }
   ],
   "source": [
    "#all values should be 1\n",
    "train_bool, test_bool = splitDatasets(x_16s, map_16s, return_bool= True, state = 1)\n",
    "def checkMatch(data1, data2):\n",
    "    print(np.sum([i == j for i,j in zip(data1.index.values, data2.index.values)]) / data1.shape[0])\n",
    "    \n",
    "checkMatch(x_16s, map_16s)\n",
    "checkMatch(x_mtg, map_mtg)\n",
    "checkMatch(x_mtt, map_mtt)\n",
    "checkMatch(encoded_16s, map_16s)\n",
    "checkMatch(encoded_mtg, map_mtg)\n",
    "checkMatch(encoded_mtt, map_mtt)"
   ]
  },
  {
   "cell_type": "code",
   "execution_count": 190,
   "metadata": {},
   "outputs": [],
   "source": [
    "def dropLowStd(data):\n",
    "    return(data.loc[:, np.std(data, axis = 0) > 0])\n",
    "\n",
    "def normalize(data):\n",
    "    return((data - np.mean(data, axis = 0)) / (np.var(data, axis = 0)))\n",
    "\n",
    "def logTransform(data):\n",
    "    return(np.log(data + 1))"
   ]
  },
  {
   "cell_type": "code",
   "execution_count": 191,
   "metadata": {},
   "outputs": [
    {
     "name": "stderr",
     "output_type": "stream",
     "text": [
      "c:\\users\\ctata\\miniconda3\\envs\\tf\\lib\\site-packages\\sklearn\\preprocessing\\_data.py:174: UserWarning: Numerical issues were encountered when centering the data and might not be solved. Dataset may contain too large values. You may need to prescale your features.\n",
      "  warnings.warn(\"Numerical issues were encountered \"\n",
      "c:\\users\\ctata\\miniconda3\\envs\\tf\\lib\\site-packages\\sklearn\\preprocessing\\_data.py:191: UserWarning: Numerical issues were encountered when scaling the data and might not be solved. The standard deviation of the data is probably very close to 0. \n",
      "  warnings.warn(\"Numerical issues were encountered \"\n",
      "c:\\users\\ctata\\miniconda3\\envs\\tf\\lib\\site-packages\\sklearn\\preprocessing\\_data.py:174: UserWarning: Numerical issues were encountered when centering the data and might not be solved. Dataset may contain too large values. You may need to prescale your features.\n",
      "  warnings.warn(\"Numerical issues were encountered \"\n",
      "c:\\users\\ctata\\miniconda3\\envs\\tf\\lib\\site-packages\\sklearn\\preprocessing\\_data.py:191: UserWarning: Numerical issues were encountered when scaling the data and might not be solved. The standard deviation of the data is probably very close to 0. \n",
      "  warnings.warn(\"Numerical issues were encountered \"\n",
      "c:\\users\\ctata\\miniconda3\\envs\\tf\\lib\\site-packages\\sklearn\\preprocessing\\_data.py:174: UserWarning: Numerical issues were encountered when centering the data and might not be solved. Dataset may contain too large values. You may need to prescale your features.\n",
      "  warnings.warn(\"Numerical issues were encountered \"\n",
      "c:\\users\\ctata\\miniconda3\\envs\\tf\\lib\\site-packages\\sklearn\\preprocessing\\_data.py:191: UserWarning: Numerical issues were encountered when scaling the data and might not be solved. The standard deviation of the data is probably very close to 0. \n",
      "  warnings.warn(\"Numerical issues were encountered \"\n",
      "c:\\users\\ctata\\miniconda3\\envs\\tf\\lib\\site-packages\\sklearn\\preprocessing\\_data.py:174: UserWarning: Numerical issues were encountered when centering the data and might not be solved. Dataset may contain too large values. You may need to prescale your features.\n",
      "  warnings.warn(\"Numerical issues were encountered \"\n",
      "c:\\users\\ctata\\miniconda3\\envs\\tf\\lib\\site-packages\\sklearn\\preprocessing\\_data.py:191: UserWarning: Numerical issues were encountered when scaling the data and might not be solved. The standard deviation of the data is probably very close to 0. \n",
      "  warnings.warn(\"Numerical issues were encountered \"\n",
      "c:\\users\\ctata\\miniconda3\\envs\\tf\\lib\\site-packages\\sklearn\\preprocessing\\_data.py:174: UserWarning: Numerical issues were encountered when centering the data and might not be solved. Dataset may contain too large values. You may need to prescale your features.\n",
      "  warnings.warn(\"Numerical issues were encountered \"\n",
      "c:\\users\\ctata\\miniconda3\\envs\\tf\\lib\\site-packages\\sklearn\\preprocessing\\_data.py:191: UserWarning: Numerical issues were encountered when scaling the data and might not be solved. The standard deviation of the data is probably very close to 0. \n",
      "  warnings.warn(\"Numerical issues were encountered \"\n"
     ]
    }
   ],
   "source": [
    "%run ml_functions.py\n",
    "%run functions.py\n",
    "data_storage = Storage([x_16s, x_mtg, x_mtt, x_mbx, all_omics])\n",
    "encoded_storage = Storage([encoded_16s, encoded_mtg, encoded_mtt, encoded_mbx, all_omics_encoded])\n",
    "mapping_storage = Storage([map_16s, map_mtg, map_mtt, map_mtt, map_mtt])\n",
    "data_storage.applyFunction(dropLowStd)\n",
    "encoded_storage.applyFunction(dropLowStd)\n",
    "data_storage.applyFunction(scale)\n",
    "encoded_storage.applyFunction(scale)\n",
    "train_bool, test_bool = splitDatasets(x_16s, map_16s, return_bool= True, state = 1)\n"
   ]
  },
  {
   "cell_type": "code",
   "execution_count": 196,
   "metadata": {},
   "outputs": [],
   "source": [
    "tmp = pd.DataFrame()"
   ]
  },
  {
   "cell_type": "code",
   "execution_count": 197,
   "metadata": {},
   "outputs": [],
   "source": [
    "#prep for phenotype prediction\n",
    "for i in np.arange(len(mapping_storage.getList())):\n",
    "    mapping_storage.getList()[i].phenotype = [True if i == 'A' else False for i in mapping_storage.getList()[i].phenotype]"
   ]
  },
  {
   "cell_type": "code",
   "execution_count": 198,
   "metadata": {},
   "outputs": [
    {
     "name": "stdout",
     "output_type": "stream",
     "text": [
      "('16S', 'MTG', 'MTT', 'MBX', 'ALL')\n",
      "RAW 16S\n",
      "RAW MTG\n",
      "RAW MTT\n",
      "RAW MBX\n",
      "RAW ALL\n",
      "('16S', 'MTG', 'MTT', 'MBX', 'ALL')\n",
      "RAW 16S\n",
      "RAW MTG\n",
      "RAW MTT\n",
      "RAW MBX\n",
      "RAW ALL\n",
      "('16S', 'MTG', 'MTT', 'MBX', 'ALL')\n",
      "RAW 16S\n",
      "RAW MTG\n",
      "RAW MTT\n",
      "RAW MBX\n",
      "RAW ALL\n",
      "('16S', 'MTG', 'MTT', 'MBX', 'ALL')\n",
      "RAW 16S\n",
      "RAW MTG\n",
      "RAW MTT\n",
      "RAW MBX\n",
      "RAW ALL\n"
     ]
    },
    {
     "data": {
      "image/png": "[encoded data removed]",
      "text/plain": [
       "<Figure size 432x288 with 1 Axes>"
      ]
     },
     "metadata": {
      "needs_background": "light"
     },
     "output_type": "display_data"
    },
    {
     "data": {
      "image/png": "[encoded data removed]",
      "text/plain": [
       "<Figure size 432x288 with 1 Axes>"
      ]
     },
     "metadata": {
      "needs_background": "light"
     },
     "output_type": "display_data"
    }
   ],
   "source": [
    "#criteria_list_transform = ['vegetable', 'dairy', 'olive_oil', 'seafood', 'meat', 'sweetened_drink', 'sugary_food', \n",
    "#                           'probiotic', \"fruit_freq\", \"dairy_freq\", \"fat_oil_freq\", \"vitamin_B\", \"vitamin_D\",\n",
    "#                          \"meats_and_seafood\"]\n",
    "\n",
    "criteria_list_transform = ['vegetable']\n",
    "res_raw, res_encode = runCompareOmicsPipeline(data_storage, encoded_storage, mapping_storage, train_bool, test_bool,\n",
    "                                              \"fruit\", 'rf', transformOrdinal_fruit)\n",
    "tmp['fruit'] = res_raw +  res_encode\n",
    "tmp.index = ['raw_16S', 'raw_MTG', 'raw_MTT', 'raw_MBX', 'raw_ALL',\n",
    "                    'autoencode_16S', 'autoencode_MTG', 'autoencode_MTT', 'autoencode_MBX', 'autoencode_ALL']\n",
    "for criteria in criteria_list_transform:\n",
    "    res_raw, res_encode = runCompareOmicsPipeline(data_storage, encoded_storage, mapping_storage, train_bool, test_bool,\n",
    "                                              criteria, 'rf', transformOrdinal_fruit)\n",
    "    tmp[criteria] = res_raw +  res_encode"
   ]
  },
  {
   "cell_type": "code",
   "execution_count": 199,
   "metadata": {},
   "outputs": [],
   "source": [
    "tmp.to_csv(\"performance_autoencoding.csv\")"
   ]
  },
  {
   "cell_type": "code",
   "execution_count": 200,
   "metadata": {},
   "outputs": [
    {
     "name": "stdout",
     "output_type": "stream",
     "text": [
      "multivitamin\n",
      "('16S', 'MTG', 'MTT', 'MBX', 'ALL')\n",
      "RAW 16S\n",
      "RAW MTG\n",
      "RAW MTT\n",
      "RAW MBX\n",
      "RAW ALL\n",
      "('16S', 'MTG', 'MTT', 'MBX', 'ALL')\n",
      "RAW 16S\n",
      "RAW MTG\n",
      "RAW MTT\n",
      "RAW MBX\n",
      "RAW ALL\n",
      "phenotype\n",
      "('16S', 'MTG', 'MTT', 'MBX', 'ALL')\n",
      "RAW 16S\n"
     ]
    },
    {
     "name": "stderr",
     "output_type": "stream",
     "text": [
      "c:\\users\\ctata\\miniconda3\\envs\\tf\\lib\\site-packages\\scipy\\stats\\stats.py:3508: PearsonRConstantInputWarning: An input array is constant; the correlation coefficent is not defined.\n",
      "  warnings.warn(PearsonRConstantInputWarning())\n",
      "c:\\users\\ctata\\miniconda3\\envs\\tf\\lib\\site-packages\\scipy\\stats\\stats.py:3508: PearsonRConstantInputWarning: An input array is constant; the correlation coefficent is not defined.\n",
      "  warnings.warn(PearsonRConstantInputWarning())\n",
      "c:\\users\\ctata\\miniconda3\\envs\\tf\\lib\\site-packages\\scipy\\stats\\stats.py:3508: PearsonRConstantInputWarning: An input array is constant; the correlation coefficent is not defined.\n",
      "  warnings.warn(PearsonRConstantInputWarning())\n",
      "c:\\users\\ctata\\miniconda3\\envs\\tf\\lib\\site-packages\\scipy\\stats\\stats.py:3508: PearsonRConstantInputWarning: An input array is constant; the correlation coefficent is not defined.\n",
      "  warnings.warn(PearsonRConstantInputWarning())\n",
      "c:\\users\\ctata\\miniconda3\\envs\\tf\\lib\\site-packages\\scipy\\stats\\stats.py:3508: PearsonRConstantInputWarning: An input array is constant; the correlation coefficent is not defined.\n",
      "  warnings.warn(PearsonRConstantInputWarning())\n",
      "c:\\users\\ctata\\miniconda3\\envs\\tf\\lib\\site-packages\\scipy\\stats\\stats.py:3508: PearsonRConstantInputWarning: An input array is constant; the correlation coefficent is not defined.\n",
      "  warnings.warn(PearsonRConstantInputWarning())\n",
      "c:\\users\\ctata\\miniconda3\\envs\\tf\\lib\\site-packages\\scipy\\stats\\stats.py:3508: PearsonRConstantInputWarning: An input array is constant; the correlation coefficent is not defined.\n",
      "  warnings.warn(PearsonRConstantInputWarning())\n",
      "c:\\users\\ctata\\miniconda3\\envs\\tf\\lib\\site-packages\\scipy\\stats\\stats.py:3508: PearsonRConstantInputWarning: An input array is constant; the correlation coefficent is not defined.\n",
      "  warnings.warn(PearsonRConstantInputWarning())\n",
      "c:\\users\\ctata\\miniconda3\\envs\\tf\\lib\\site-packages\\scipy\\stats\\stats.py:3508: PearsonRConstantInputWarning: An input array is constant; the correlation coefficent is not defined.\n",
      "  warnings.warn(PearsonRConstantInputWarning())\n",
      "c:\\users\\ctata\\miniconda3\\envs\\tf\\lib\\site-packages\\scipy\\stats\\stats.py:3508: PearsonRConstantInputWarning: An input array is constant; the correlation coefficent is not defined.\n",
      "  warnings.warn(PearsonRConstantInputWarning())\n",
      "c:\\users\\ctata\\miniconda3\\envs\\tf\\lib\\site-packages\\scipy\\stats\\stats.py:3508: PearsonRConstantInputWarning: An input array is constant; the correlation coefficent is not defined.\n",
      "  warnings.warn(PearsonRConstantInputWarning())\n",
      "c:\\users\\ctata\\miniconda3\\envs\\tf\\lib\\site-packages\\scipy\\stats\\stats.py:3508: PearsonRConstantInputWarning: An input array is constant; the correlation coefficent is not defined.\n",
      "  warnings.warn(PearsonRConstantInputWarning())\n",
      "c:\\users\\ctata\\miniconda3\\envs\\tf\\lib\\site-packages\\scipy\\stats\\stats.py:3508: PearsonRConstantInputWarning: An input array is constant; the correlation coefficent is not defined.\n",
      "  warnings.warn(PearsonRConstantInputWarning())\n"
     ]
    },
    {
     "name": "stdout",
     "output_type": "stream",
     "text": [
      "RAW MTG\n"
     ]
    },
    {
     "name": "stderr",
     "output_type": "stream",
     "text": [
      "c:\\users\\ctata\\miniconda3\\envs\\tf\\lib\\site-packages\\scipy\\stats\\stats.py:3508: PearsonRConstantInputWarning: An input array is constant; the correlation coefficent is not defined.\n",
      "  warnings.warn(PearsonRConstantInputWarning())\n",
      "c:\\users\\ctata\\miniconda3\\envs\\tf\\lib\\site-packages\\scipy\\stats\\stats.py:3508: PearsonRConstantInputWarning: An input array is constant; the correlation coefficent is not defined.\n",
      "  warnings.warn(PearsonRConstantInputWarning())\n",
      "c:\\users\\ctata\\miniconda3\\envs\\tf\\lib\\site-packages\\scipy\\stats\\stats.py:3508: PearsonRConstantInputWarning: An input array is constant; the correlation coefficent is not defined.\n",
      "  warnings.warn(PearsonRConstantInputWarning())\n",
      "c:\\users\\ctata\\miniconda3\\envs\\tf\\lib\\site-packages\\scipy\\stats\\stats.py:3508: PearsonRConstantInputWarning: An input array is constant; the correlation coefficent is not defined.\n",
      "  warnings.warn(PearsonRConstantInputWarning())\n",
      "c:\\users\\ctata\\miniconda3\\envs\\tf\\lib\\site-packages\\scipy\\stats\\stats.py:3508: PearsonRConstantInputWarning: An input array is constant; the correlation coefficent is not defined.\n",
      "  warnings.warn(PearsonRConstantInputWarning())\n",
      "c:\\users\\ctata\\miniconda3\\envs\\tf\\lib\\site-packages\\scipy\\stats\\stats.py:3508: PearsonRConstantInputWarning: An input array is constant; the correlation coefficent is not defined.\n",
      "  warnings.warn(PearsonRConstantInputWarning())\n",
      "c:\\users\\ctata\\miniconda3\\envs\\tf\\lib\\site-packages\\scipy\\stats\\stats.py:3508: PearsonRConstantInputWarning: An input array is constant; the correlation coefficent is not defined.\n",
      "  warnings.warn(PearsonRConstantInputWarning())\n",
      "c:\\users\\ctata\\miniconda3\\envs\\tf\\lib\\site-packages\\scipy\\stats\\stats.py:3508: PearsonRConstantInputWarning: An input array is constant; the correlation coefficent is not defined.\n",
      "  warnings.warn(PearsonRConstantInputWarning())\n",
      "c:\\users\\ctata\\miniconda3\\envs\\tf\\lib\\site-packages\\scipy\\stats\\stats.py:3508: PearsonRConstantInputWarning: An input array is constant; the correlation coefficent is not defined.\n",
      "  warnings.warn(PearsonRConstantInputWarning())\n",
      "c:\\users\\ctata\\miniconda3\\envs\\tf\\lib\\site-packages\\scipy\\stats\\stats.py:3508: PearsonRConstantInputWarning: An input array is constant; the correlation coefficent is not defined.\n",
      "  warnings.warn(PearsonRConstantInputWarning())\n",
      "c:\\users\\ctata\\miniconda3\\envs\\tf\\lib\\site-packages\\scipy\\stats\\stats.py:3508: PearsonRConstantInputWarning: An input array is constant; the correlation coefficent is not defined.\n",
      "  warnings.warn(PearsonRConstantInputWarning())\n",
      "c:\\users\\ctata\\miniconda3\\envs\\tf\\lib\\site-packages\\scipy\\stats\\stats.py:3508: PearsonRConstantInputWarning: An input array is constant; the correlation coefficent is not defined.\n",
      "  warnings.warn(PearsonRConstantInputWarning())\n",
      "c:\\users\\ctata\\miniconda3\\envs\\tf\\lib\\site-packages\\scipy\\stats\\stats.py:3508: PearsonRConstantInputWarning: An input array is constant; the correlation coefficent is not defined.\n",
      "  warnings.warn(PearsonRConstantInputWarning())\n"
     ]
    },
    {
     "name": "stdout",
     "output_type": "stream",
     "text": [
      "RAW MTT\n"
     ]
    },
    {
     "name": "stderr",
     "output_type": "stream",
     "text": [
      "c:\\users\\ctata\\miniconda3\\envs\\tf\\lib\\site-packages\\scipy\\stats\\stats.py:3508: PearsonRConstantInputWarning: An input array is constant; the correlation coefficent is not defined.\n",
      "  warnings.warn(PearsonRConstantInputWarning())\n",
      "c:\\users\\ctata\\miniconda3\\envs\\tf\\lib\\site-packages\\scipy\\stats\\stats.py:3508: PearsonRConstantInputWarning: An input array is constant; the correlation coefficent is not defined.\n",
      "  warnings.warn(PearsonRConstantInputWarning())\n",
      "c:\\users\\ctata\\miniconda3\\envs\\tf\\lib\\site-packages\\scipy\\stats\\stats.py:3508: PearsonRConstantInputWarning: An input array is constant; the correlation coefficent is not defined.\n",
      "  warnings.warn(PearsonRConstantInputWarning())\n",
      "c:\\users\\ctata\\miniconda3\\envs\\tf\\lib\\site-packages\\scipy\\stats\\stats.py:3508: PearsonRConstantInputWarning: An input array is constant; the correlation coefficent is not defined.\n",
      "  warnings.warn(PearsonRConstantInputWarning())\n",
      "c:\\users\\ctata\\miniconda3\\envs\\tf\\lib\\site-packages\\scipy\\stats\\stats.py:3508: PearsonRConstantInputWarning: An input array is constant; the correlation coefficent is not defined.\n",
      "  warnings.warn(PearsonRConstantInputWarning())\n",
      "c:\\users\\ctata\\miniconda3\\envs\\tf\\lib\\site-packages\\scipy\\stats\\stats.py:3508: PearsonRConstantInputWarning: An input array is constant; the correlation coefficent is not defined.\n",
      "  warnings.warn(PearsonRConstantInputWarning())\n",
      "c:\\users\\ctata\\miniconda3\\envs\\tf\\lib\\site-packages\\scipy\\stats\\stats.py:3508: PearsonRConstantInputWarning: An input array is constant; the correlation coefficent is not defined.\n",
      "  warnings.warn(PearsonRConstantInputWarning())\n",
      "c:\\users\\ctata\\miniconda3\\envs\\tf\\lib\\site-packages\\scipy\\stats\\stats.py:3508: PearsonRConstantInputWarning: An input array is constant; the correlation coefficent is not defined.\n",
      "  warnings.warn(PearsonRConstantInputWarning())\n",
      "c:\\users\\ctata\\miniconda3\\envs\\tf\\lib\\site-packages\\scipy\\stats\\stats.py:3508: PearsonRConstantInputWarning: An input array is constant; the correlation coefficent is not defined.\n",
      "  warnings.warn(PearsonRConstantInputWarning())\n",
      "c:\\users\\ctata\\miniconda3\\envs\\tf\\lib\\site-packages\\scipy\\stats\\stats.py:3508: PearsonRConstantInputWarning: An input array is constant; the correlation coefficent is not defined.\n",
      "  warnings.warn(PearsonRConstantInputWarning())\n",
      "c:\\users\\ctata\\miniconda3\\envs\\tf\\lib\\site-packages\\scipy\\stats\\stats.py:3508: PearsonRConstantInputWarning: An input array is constant; the correlation coefficent is not defined.\n",
      "  warnings.warn(PearsonRConstantInputWarning())\n",
      "c:\\users\\ctata\\miniconda3\\envs\\tf\\lib\\site-packages\\scipy\\stats\\stats.py:3508: PearsonRConstantInputWarning: An input array is constant; the correlation coefficent is not defined.\n",
      "  warnings.warn(PearsonRConstantInputWarning())\n",
      "c:\\users\\ctata\\miniconda3\\envs\\tf\\lib\\site-packages\\scipy\\stats\\stats.py:3508: PearsonRConstantInputWarning: An input array is constant; the correlation coefficent is not defined.\n",
      "  warnings.warn(PearsonRConstantInputWarning())\n",
      "c:\\users\\ctata\\miniconda3\\envs\\tf\\lib\\site-packages\\scipy\\stats\\stats.py:3508: PearsonRConstantInputWarning: An input array is constant; the correlation coefficent is not defined.\n",
      "  warnings.warn(PearsonRConstantInputWarning())\n"
     ]
    },
    {
     "name": "stdout",
     "output_type": "stream",
     "text": [
      "RAW MBX\n"
     ]
    },
    {
     "name": "stderr",
     "output_type": "stream",
     "text": [
      "c:\\users\\ctata\\miniconda3\\envs\\tf\\lib\\site-packages\\scipy\\stats\\stats.py:3508: PearsonRConstantInputWarning: An input array is constant; the correlation coefficent is not defined.\n",
      "  warnings.warn(PearsonRConstantInputWarning())\n",
      "c:\\users\\ctata\\miniconda3\\envs\\tf\\lib\\site-packages\\scipy\\stats\\stats.py:3508: PearsonRConstantInputWarning: An input array is constant; the correlation coefficent is not defined.\n",
      "  warnings.warn(PearsonRConstantInputWarning())\n",
      "c:\\users\\ctata\\miniconda3\\envs\\tf\\lib\\site-packages\\scipy\\stats\\stats.py:3508: PearsonRConstantInputWarning: An input array is constant; the correlation coefficent is not defined.\n",
      "  warnings.warn(PearsonRConstantInputWarning())\n",
      "c:\\users\\ctata\\miniconda3\\envs\\tf\\lib\\site-packages\\scipy\\stats\\stats.py:3508: PearsonRConstantInputWarning: An input array is constant; the correlation coefficent is not defined.\n",
      "  warnings.warn(PearsonRConstantInputWarning())\n",
      "c:\\users\\ctata\\miniconda3\\envs\\tf\\lib\\site-packages\\scipy\\stats\\stats.py:3508: PearsonRConstantInputWarning: An input array is constant; the correlation coefficent is not defined.\n",
      "  warnings.warn(PearsonRConstantInputWarning())\n",
      "c:\\users\\ctata\\miniconda3\\envs\\tf\\lib\\site-packages\\scipy\\stats\\stats.py:3508: PearsonRConstantInputWarning: An input array is constant; the correlation coefficent is not defined.\n",
      "  warnings.warn(PearsonRConstantInputWarning())\n",
      "c:\\users\\ctata\\miniconda3\\envs\\tf\\lib\\site-packages\\scipy\\stats\\stats.py:3508: PearsonRConstantInputWarning: An input array is constant; the correlation coefficent is not defined.\n",
      "  warnings.warn(PearsonRConstantInputWarning())\n",
      "c:\\users\\ctata\\miniconda3\\envs\\tf\\lib\\site-packages\\scipy\\stats\\stats.py:3508: PearsonRConstantInputWarning: An input array is constant; the correlation coefficent is not defined.\n",
      "  warnings.warn(PearsonRConstantInputWarning())\n",
      "c:\\users\\ctata\\miniconda3\\envs\\tf\\lib\\site-packages\\scipy\\stats\\stats.py:3508: PearsonRConstantInputWarning: An input array is constant; the correlation coefficent is not defined.\n",
      "  warnings.warn(PearsonRConstantInputWarning())\n",
      "c:\\users\\ctata\\miniconda3\\envs\\tf\\lib\\site-packages\\scipy\\stats\\stats.py:3508: PearsonRConstantInputWarning: An input array is constant; the correlation coefficent is not defined.\n",
      "  warnings.warn(PearsonRConstantInputWarning())\n",
      "c:\\users\\ctata\\miniconda3\\envs\\tf\\lib\\site-packages\\scipy\\stats\\stats.py:3508: PearsonRConstantInputWarning: An input array is constant; the correlation coefficent is not defined.\n",
      "  warnings.warn(PearsonRConstantInputWarning())\n",
      "c:\\users\\ctata\\miniconda3\\envs\\tf\\lib\\site-packages\\scipy\\stats\\stats.py:3508: PearsonRConstantInputWarning: An input array is constant; the correlation coefficent is not defined.\n",
      "  warnings.warn(PearsonRConstantInputWarning())\n"
     ]
    },
    {
     "name": "stdout",
     "output_type": "stream",
     "text": [
      "RAW ALL\n"
     ]
    },
    {
     "name": "stderr",
     "output_type": "stream",
     "text": [
      "c:\\users\\ctata\\miniconda3\\envs\\tf\\lib\\site-packages\\scipy\\stats\\stats.py:3508: PearsonRConstantInputWarning: An input array is constant; the correlation coefficent is not defined.\n",
      "  warnings.warn(PearsonRConstantInputWarning())\n",
      "c:\\users\\ctata\\miniconda3\\envs\\tf\\lib\\site-packages\\scipy\\stats\\stats.py:3508: PearsonRConstantInputWarning: An input array is constant; the correlation coefficent is not defined.\n",
      "  warnings.warn(PearsonRConstantInputWarning())\n",
      "c:\\users\\ctata\\miniconda3\\envs\\tf\\lib\\site-packages\\scipy\\stats\\stats.py:3508: PearsonRConstantInputWarning: An input array is constant; the correlation coefficent is not defined.\n",
      "  warnings.warn(PearsonRConstantInputWarning())\n",
      "c:\\users\\ctata\\miniconda3\\envs\\tf\\lib\\site-packages\\scipy\\stats\\stats.py:3508: PearsonRConstantInputWarning: An input array is constant; the correlation coefficent is not defined.\n",
      "  warnings.warn(PearsonRConstantInputWarning())\n",
      "c:\\users\\ctata\\miniconda3\\envs\\tf\\lib\\site-packages\\scipy\\stats\\stats.py:3508: PearsonRConstantInputWarning: An input array is constant; the correlation coefficent is not defined.\n",
      "  warnings.warn(PearsonRConstantInputWarning())\n",
      "c:\\users\\ctata\\miniconda3\\envs\\tf\\lib\\site-packages\\scipy\\stats\\stats.py:3508: PearsonRConstantInputWarning: An input array is constant; the correlation coefficent is not defined.\n",
      "  warnings.warn(PearsonRConstantInputWarning())\n",
      "c:\\users\\ctata\\miniconda3\\envs\\tf\\lib\\site-packages\\scipy\\stats\\stats.py:3508: PearsonRConstantInputWarning: An input array is constant; the correlation coefficent is not defined.\n",
      "  warnings.warn(PearsonRConstantInputWarning())\n",
      "c:\\users\\ctata\\miniconda3\\envs\\tf\\lib\\site-packages\\scipy\\stats\\stats.py:3508: PearsonRConstantInputWarning: An input array is constant; the correlation coefficent is not defined.\n",
      "  warnings.warn(PearsonRConstantInputWarning())\n",
      "c:\\users\\ctata\\miniconda3\\envs\\tf\\lib\\site-packages\\scipy\\stats\\stats.py:3508: PearsonRConstantInputWarning: An input array is constant; the correlation coefficent is not defined.\n",
      "  warnings.warn(PearsonRConstantInputWarning())\n",
      "c:\\users\\ctata\\miniconda3\\envs\\tf\\lib\\site-packages\\scipy\\stats\\stats.py:3508: PearsonRConstantInputWarning: An input array is constant; the correlation coefficent is not defined.\n",
      "  warnings.warn(PearsonRConstantInputWarning())\n",
      "c:\\users\\ctata\\miniconda3\\envs\\tf\\lib\\site-packages\\scipy\\stats\\stats.py:3508: PearsonRConstantInputWarning: An input array is constant; the correlation coefficent is not defined.\n",
      "  warnings.warn(PearsonRConstantInputWarning())\n",
      "c:\\users\\ctata\\miniconda3\\envs\\tf\\lib\\site-packages\\scipy\\stats\\stats.py:3508: PearsonRConstantInputWarning: An input array is constant; the correlation coefficent is not defined.\n",
      "  warnings.warn(PearsonRConstantInputWarning())\n",
      "c:\\users\\ctata\\miniconda3\\envs\\tf\\lib\\site-packages\\scipy\\stats\\stats.py:3508: PearsonRConstantInputWarning: An input array is constant; the correlation coefficent is not defined.\n",
      "  warnings.warn(PearsonRConstantInputWarning())\n",
      "c:\\users\\ctata\\miniconda3\\envs\\tf\\lib\\site-packages\\scipy\\stats\\stats.py:3508: PearsonRConstantInputWarning: An input array is constant; the correlation coefficent is not defined.\n",
      "  warnings.warn(PearsonRConstantInputWarning())\n"
     ]
    },
    {
     "name": "stdout",
     "output_type": "stream",
     "text": [
      "('16S', 'MTG', 'MTT', 'MBX', 'ALL')\n",
      "RAW 16S\n"
     ]
    },
    {
     "name": "stderr",
     "output_type": "stream",
     "text": [
      "c:\\users\\ctata\\miniconda3\\envs\\tf\\lib\\site-packages\\scipy\\stats\\stats.py:3508: PearsonRConstantInputWarning: An input array is constant; the correlation coefficent is not defined.\n",
      "  warnings.warn(PearsonRConstantInputWarning())\n",
      "c:\\users\\ctata\\miniconda3\\envs\\tf\\lib\\site-packages\\scipy\\stats\\stats.py:3508: PearsonRConstantInputWarning: An input array is constant; the correlation coefficent is not defined.\n",
      "  warnings.warn(PearsonRConstantInputWarning())\n",
      "c:\\users\\ctata\\miniconda3\\envs\\tf\\lib\\site-packages\\scipy\\stats\\stats.py:3508: PearsonRConstantInputWarning: An input array is constant; the correlation coefficent is not defined.\n",
      "  warnings.warn(PearsonRConstantInputWarning())\n",
      "c:\\users\\ctata\\miniconda3\\envs\\tf\\lib\\site-packages\\scipy\\stats\\stats.py:3508: PearsonRConstantInputWarning: An input array is constant; the correlation coefficent is not defined.\n",
      "  warnings.warn(PearsonRConstantInputWarning())\n",
      "c:\\users\\ctata\\miniconda3\\envs\\tf\\lib\\site-packages\\scipy\\stats\\stats.py:3508: PearsonRConstantInputWarning: An input array is constant; the correlation coefficent is not defined.\n",
      "  warnings.warn(PearsonRConstantInputWarning())\n",
      "c:\\users\\ctata\\miniconda3\\envs\\tf\\lib\\site-packages\\scipy\\stats\\stats.py:3508: PearsonRConstantInputWarning: An input array is constant; the correlation coefficent is not defined.\n",
      "  warnings.warn(PearsonRConstantInputWarning())\n",
      "c:\\users\\ctata\\miniconda3\\envs\\tf\\lib\\site-packages\\scipy\\stats\\stats.py:3508: PearsonRConstantInputWarning: An input array is constant; the correlation coefficent is not defined.\n",
      "  warnings.warn(PearsonRConstantInputWarning())\n",
      "c:\\users\\ctata\\miniconda3\\envs\\tf\\lib\\site-packages\\scipy\\stats\\stats.py:3508: PearsonRConstantInputWarning: An input array is constant; the correlation coefficent is not defined.\n",
      "  warnings.warn(PearsonRConstantInputWarning())\n",
      "c:\\users\\ctata\\miniconda3\\envs\\tf\\lib\\site-packages\\scipy\\stats\\stats.py:3508: PearsonRConstantInputWarning: An input array is constant; the correlation coefficent is not defined.\n",
      "  warnings.warn(PearsonRConstantInputWarning())\n",
      "c:\\users\\ctata\\miniconda3\\envs\\tf\\lib\\site-packages\\scipy\\stats\\stats.py:3508: PearsonRConstantInputWarning: An input array is constant; the correlation coefficent is not defined.\n",
      "  warnings.warn(PearsonRConstantInputWarning())\n",
      "c:\\users\\ctata\\miniconda3\\envs\\tf\\lib\\site-packages\\scipy\\stats\\stats.py:3508: PearsonRConstantInputWarning: An input array is constant; the correlation coefficent is not defined.\n",
      "  warnings.warn(PearsonRConstantInputWarning())\n",
      "c:\\users\\ctata\\miniconda3\\envs\\tf\\lib\\site-packages\\scipy\\stats\\stats.py:3508: PearsonRConstantInputWarning: An input array is constant; the correlation coefficent is not defined.\n",
      "  warnings.warn(PearsonRConstantInputWarning())\n"
     ]
    },
    {
     "name": "stdout",
     "output_type": "stream",
     "text": [
      "RAW MTG\n"
     ]
    },
    {
     "name": "stderr",
     "output_type": "stream",
     "text": [
      "c:\\users\\ctata\\miniconda3\\envs\\tf\\lib\\site-packages\\scipy\\stats\\stats.py:3508: PearsonRConstantInputWarning: An input array is constant; the correlation coefficent is not defined.\n",
      "  warnings.warn(PearsonRConstantInputWarning())\n",
      "c:\\users\\ctata\\miniconda3\\envs\\tf\\lib\\site-packages\\scipy\\stats\\stats.py:3508: PearsonRConstantInputWarning: An input array is constant; the correlation coefficent is not defined.\n",
      "  warnings.warn(PearsonRConstantInputWarning())\n",
      "c:\\users\\ctata\\miniconda3\\envs\\tf\\lib\\site-packages\\scipy\\stats\\stats.py:3508: PearsonRConstantInputWarning: An input array is constant; the correlation coefficent is not defined.\n",
      "  warnings.warn(PearsonRConstantInputWarning())\n",
      "c:\\users\\ctata\\miniconda3\\envs\\tf\\lib\\site-packages\\scipy\\stats\\stats.py:3508: PearsonRConstantInputWarning: An input array is constant; the correlation coefficent is not defined.\n",
      "  warnings.warn(PearsonRConstantInputWarning())\n",
      "c:\\users\\ctata\\miniconda3\\envs\\tf\\lib\\site-packages\\scipy\\stats\\stats.py:3508: PearsonRConstantInputWarning: An input array is constant; the correlation coefficent is not defined.\n",
      "  warnings.warn(PearsonRConstantInputWarning())\n",
      "c:\\users\\ctata\\miniconda3\\envs\\tf\\lib\\site-packages\\scipy\\stats\\stats.py:3508: PearsonRConstantInputWarning: An input array is constant; the correlation coefficent is not defined.\n",
      "  warnings.warn(PearsonRConstantInputWarning())\n",
      "c:\\users\\ctata\\miniconda3\\envs\\tf\\lib\\site-packages\\scipy\\stats\\stats.py:3508: PearsonRConstantInputWarning: An input array is constant; the correlation coefficent is not defined.\n",
      "  warnings.warn(PearsonRConstantInputWarning())\n",
      "c:\\users\\ctata\\miniconda3\\envs\\tf\\lib\\site-packages\\scipy\\stats\\stats.py:3508: PearsonRConstantInputWarning: An input array is constant; the correlation coefficent is not defined.\n",
      "  warnings.warn(PearsonRConstantInputWarning())\n",
      "c:\\users\\ctata\\miniconda3\\envs\\tf\\lib\\site-packages\\scipy\\stats\\stats.py:3508: PearsonRConstantInputWarning: An input array is constant; the correlation coefficent is not defined.\n",
      "  warnings.warn(PearsonRConstantInputWarning())\n",
      "c:\\users\\ctata\\miniconda3\\envs\\tf\\lib\\site-packages\\scipy\\stats\\stats.py:3508: PearsonRConstantInputWarning: An input array is constant; the correlation coefficent is not defined.\n",
      "  warnings.warn(PearsonRConstantInputWarning())\n",
      "c:\\users\\ctata\\miniconda3\\envs\\tf\\lib\\site-packages\\scipy\\stats\\stats.py:3508: PearsonRConstantInputWarning: An input array is constant; the correlation coefficent is not defined.\n",
      "  warnings.warn(PearsonRConstantInputWarning())\n",
      "c:\\users\\ctata\\miniconda3\\envs\\tf\\lib\\site-packages\\scipy\\stats\\stats.py:3508: PearsonRConstantInputWarning: An input array is constant; the correlation coefficent is not defined.\n",
      "  warnings.warn(PearsonRConstantInputWarning())\n",
      "c:\\users\\ctata\\miniconda3\\envs\\tf\\lib\\site-packages\\scipy\\stats\\stats.py:3508: PearsonRConstantInputWarning: An input array is constant; the correlation coefficent is not defined.\n",
      "  warnings.warn(PearsonRConstantInputWarning())\n",
      "c:\\users\\ctata\\miniconda3\\envs\\tf\\lib\\site-packages\\scipy\\stats\\stats.py:3508: PearsonRConstantInputWarning: An input array is constant; the correlation coefficent is not defined.\n",
      "  warnings.warn(PearsonRConstantInputWarning())\n"
     ]
    },
    {
     "name": "stdout",
     "output_type": "stream",
     "text": [
      "RAW MTT\n"
     ]
    },
    {
     "name": "stderr",
     "output_type": "stream",
     "text": [
      "c:\\users\\ctata\\miniconda3\\envs\\tf\\lib\\site-packages\\scipy\\stats\\stats.py:3508: PearsonRConstantInputWarning: An input array is constant; the correlation coefficent is not defined.\n",
      "  warnings.warn(PearsonRConstantInputWarning())\n",
      "c:\\users\\ctata\\miniconda3\\envs\\tf\\lib\\site-packages\\scipy\\stats\\stats.py:3508: PearsonRConstantInputWarning: An input array is constant; the correlation coefficent is not defined.\n",
      "  warnings.warn(PearsonRConstantInputWarning())\n",
      "c:\\users\\ctata\\miniconda3\\envs\\tf\\lib\\site-packages\\scipy\\stats\\stats.py:3508: PearsonRConstantInputWarning: An input array is constant; the correlation coefficent is not defined.\n",
      "  warnings.warn(PearsonRConstantInputWarning())\n",
      "c:\\users\\ctata\\miniconda3\\envs\\tf\\lib\\site-packages\\scipy\\stats\\stats.py:3508: PearsonRConstantInputWarning: An input array is constant; the correlation coefficent is not defined.\n",
      "  warnings.warn(PearsonRConstantInputWarning())\n",
      "c:\\users\\ctata\\miniconda3\\envs\\tf\\lib\\site-packages\\scipy\\stats\\stats.py:3508: PearsonRConstantInputWarning: An input array is constant; the correlation coefficent is not defined.\n",
      "  warnings.warn(PearsonRConstantInputWarning())\n",
      "c:\\users\\ctata\\miniconda3\\envs\\tf\\lib\\site-packages\\scipy\\stats\\stats.py:3508: PearsonRConstantInputWarning: An input array is constant; the correlation coefficent is not defined.\n",
      "  warnings.warn(PearsonRConstantInputWarning())\n",
      "c:\\users\\ctata\\miniconda3\\envs\\tf\\lib\\site-packages\\scipy\\stats\\stats.py:3508: PearsonRConstantInputWarning: An input array is constant; the correlation coefficent is not defined.\n",
      "  warnings.warn(PearsonRConstantInputWarning())\n",
      "c:\\users\\ctata\\miniconda3\\envs\\tf\\lib\\site-packages\\scipy\\stats\\stats.py:3508: PearsonRConstantInputWarning: An input array is constant; the correlation coefficent is not defined.\n",
      "  warnings.warn(PearsonRConstantInputWarning())\n",
      "c:\\users\\ctata\\miniconda3\\envs\\tf\\lib\\site-packages\\scipy\\stats\\stats.py:3508: PearsonRConstantInputWarning: An input array is constant; the correlation coefficent is not defined.\n",
      "  warnings.warn(PearsonRConstantInputWarning())\n",
      "c:\\users\\ctata\\miniconda3\\envs\\tf\\lib\\site-packages\\scipy\\stats\\stats.py:3508: PearsonRConstantInputWarning: An input array is constant; the correlation coefficent is not defined.\n",
      "  warnings.warn(PearsonRConstantInputWarning())\n",
      "c:\\users\\ctata\\miniconda3\\envs\\tf\\lib\\site-packages\\scipy\\stats\\stats.py:3508: PearsonRConstantInputWarning: An input array is constant; the correlation coefficent is not defined.\n",
      "  warnings.warn(PearsonRConstantInputWarning())\n",
      "c:\\users\\ctata\\miniconda3\\envs\\tf\\lib\\site-packages\\scipy\\stats\\stats.py:3508: PearsonRConstantInputWarning: An input array is constant; the correlation coefficent is not defined.\n",
      "  warnings.warn(PearsonRConstantInputWarning())\n"
     ]
    },
    {
     "name": "stdout",
     "output_type": "stream",
     "text": [
      "RAW MBX\n"
     ]
    },
    {
     "name": "stderr",
     "output_type": "stream",
     "text": [
      "c:\\users\\ctata\\miniconda3\\envs\\tf\\lib\\site-packages\\scipy\\stats\\stats.py:3508: PearsonRConstantInputWarning: An input array is constant; the correlation coefficent is not defined.\n",
      "  warnings.warn(PearsonRConstantInputWarning())\n",
      "c:\\users\\ctata\\miniconda3\\envs\\tf\\lib\\site-packages\\scipy\\stats\\stats.py:3508: PearsonRConstantInputWarning: An input array is constant; the correlation coefficent is not defined.\n",
      "  warnings.warn(PearsonRConstantInputWarning())\n",
      "c:\\users\\ctata\\miniconda3\\envs\\tf\\lib\\site-packages\\scipy\\stats\\stats.py:3508: PearsonRConstantInputWarning: An input array is constant; the correlation coefficent is not defined.\n",
      "  warnings.warn(PearsonRConstantInputWarning())\n",
      "c:\\users\\ctata\\miniconda3\\envs\\tf\\lib\\site-packages\\scipy\\stats\\stats.py:3508: PearsonRConstantInputWarning: An input array is constant; the correlation coefficent is not defined.\n",
      "  warnings.warn(PearsonRConstantInputWarning())\n",
      "c:\\users\\ctata\\miniconda3\\envs\\tf\\lib\\site-packages\\scipy\\stats\\stats.py:3508: PearsonRConstantInputWarning: An input array is constant; the correlation coefficent is not defined.\n",
      "  warnings.warn(PearsonRConstantInputWarning())\n",
      "c:\\users\\ctata\\miniconda3\\envs\\tf\\lib\\site-packages\\scipy\\stats\\stats.py:3508: PearsonRConstantInputWarning: An input array is constant; the correlation coefficent is not defined.\n",
      "  warnings.warn(PearsonRConstantInputWarning())\n",
      "c:\\users\\ctata\\miniconda3\\envs\\tf\\lib\\site-packages\\scipy\\stats\\stats.py:3508: PearsonRConstantInputWarning: An input array is constant; the correlation coefficent is not defined.\n",
      "  warnings.warn(PearsonRConstantInputWarning())\n",
      "c:\\users\\ctata\\miniconda3\\envs\\tf\\lib\\site-packages\\scipy\\stats\\stats.py:3508: PearsonRConstantInputWarning: An input array is constant; the correlation coefficent is not defined.\n",
      "  warnings.warn(PearsonRConstantInputWarning())\n",
      "c:\\users\\ctata\\miniconda3\\envs\\tf\\lib\\site-packages\\scipy\\stats\\stats.py:3508: PearsonRConstantInputWarning: An input array is constant; the correlation coefficent is not defined.\n",
      "  warnings.warn(PearsonRConstantInputWarning())\n",
      "c:\\users\\ctata\\miniconda3\\envs\\tf\\lib\\site-packages\\scipy\\stats\\stats.py:3508: PearsonRConstantInputWarning: An input array is constant; the correlation coefficent is not defined.\n",
      "  warnings.warn(PearsonRConstantInputWarning())\n",
      "c:\\users\\ctata\\miniconda3\\envs\\tf\\lib\\site-packages\\scipy\\stats\\stats.py:3508: PearsonRConstantInputWarning: An input array is constant; the correlation coefficent is not defined.\n",
      "  warnings.warn(PearsonRConstantInputWarning())\n",
      "c:\\users\\ctata\\miniconda3\\envs\\tf\\lib\\site-packages\\scipy\\stats\\stats.py:3508: PearsonRConstantInputWarning: An input array is constant; the correlation coefficent is not defined.\n",
      "  warnings.warn(PearsonRConstantInputWarning())\n",
      "c:\\users\\ctata\\miniconda3\\envs\\tf\\lib\\site-packages\\scipy\\stats\\stats.py:3508: PearsonRConstantInputWarning: An input array is constant; the correlation coefficent is not defined.\n",
      "  warnings.warn(PearsonRConstantInputWarning())\n",
      "c:\\users\\ctata\\miniconda3\\envs\\tf\\lib\\site-packages\\scipy\\stats\\stats.py:3508: PearsonRConstantInputWarning: An input array is constant; the correlation coefficent is not defined.\n",
      "  warnings.warn(PearsonRConstantInputWarning())\n"
     ]
    },
    {
     "name": "stdout",
     "output_type": "stream",
     "text": [
      "RAW ALL\n"
     ]
    },
    {
     "name": "stderr",
     "output_type": "stream",
     "text": [
      "c:\\users\\ctata\\miniconda3\\envs\\tf\\lib\\site-packages\\scipy\\stats\\stats.py:3508: PearsonRConstantInputWarning: An input array is constant; the correlation coefficent is not defined.\n",
      "  warnings.warn(PearsonRConstantInputWarning())\n",
      "c:\\users\\ctata\\miniconda3\\envs\\tf\\lib\\site-packages\\scipy\\stats\\stats.py:3508: PearsonRConstantInputWarning: An input array is constant; the correlation coefficent is not defined.\n",
      "  warnings.warn(PearsonRConstantInputWarning())\n",
      "c:\\users\\ctata\\miniconda3\\envs\\tf\\lib\\site-packages\\scipy\\stats\\stats.py:3508: PearsonRConstantInputWarning: An input array is constant; the correlation coefficent is not defined.\n",
      "  warnings.warn(PearsonRConstantInputWarning())\n",
      "c:\\users\\ctata\\miniconda3\\envs\\tf\\lib\\site-packages\\scipy\\stats\\stats.py:3508: PearsonRConstantInputWarning: An input array is constant; the correlation coefficent is not defined.\n",
      "  warnings.warn(PearsonRConstantInputWarning())\n",
      "c:\\users\\ctata\\miniconda3\\envs\\tf\\lib\\site-packages\\scipy\\stats\\stats.py:3508: PearsonRConstantInputWarning: An input array is constant; the correlation coefficent is not defined.\n",
      "  warnings.warn(PearsonRConstantInputWarning())\n",
      "c:\\users\\ctata\\miniconda3\\envs\\tf\\lib\\site-packages\\scipy\\stats\\stats.py:3508: PearsonRConstantInputWarning: An input array is constant; the correlation coefficent is not defined.\n",
      "  warnings.warn(PearsonRConstantInputWarning())\n",
      "c:\\users\\ctata\\miniconda3\\envs\\tf\\lib\\site-packages\\scipy\\stats\\stats.py:3508: PearsonRConstantInputWarning: An input array is constant; the correlation coefficent is not defined.\n",
      "  warnings.warn(PearsonRConstantInputWarning())\n",
      "c:\\users\\ctata\\miniconda3\\envs\\tf\\lib\\site-packages\\scipy\\stats\\stats.py:3508: PearsonRConstantInputWarning: An input array is constant; the correlation coefficent is not defined.\n",
      "  warnings.warn(PearsonRConstantInputWarning())\n",
      "c:\\users\\ctata\\miniconda3\\envs\\tf\\lib\\site-packages\\scipy\\stats\\stats.py:3508: PearsonRConstantInputWarning: An input array is constant; the correlation coefficent is not defined.\n",
      "  warnings.warn(PearsonRConstantInputWarning())\n",
      "c:\\users\\ctata\\miniconda3\\envs\\tf\\lib\\site-packages\\scipy\\stats\\stats.py:3508: PearsonRConstantInputWarning: An input array is constant; the correlation coefficent is not defined.\n",
      "  warnings.warn(PearsonRConstantInputWarning())\n",
      "c:\\users\\ctata\\miniconda3\\envs\\tf\\lib\\site-packages\\scipy\\stats\\stats.py:3508: PearsonRConstantInputWarning: An input array is constant; the correlation coefficent is not defined.\n",
      "  warnings.warn(PearsonRConstantInputWarning())\n",
      "c:\\users\\ctata\\miniconda3\\envs\\tf\\lib\\site-packages\\scipy\\stats\\stats.py:3508: PearsonRConstantInputWarning: An input array is constant; the correlation coefficent is not defined.\n",
      "  warnings.warn(PearsonRConstantInputWarning())\n"
     ]
    },
    {
     "name": "stdout",
     "output_type": "stream",
     "text": [
      "dietary_supplement\n",
      "('16S', 'MTG', 'MTT', 'MBX', 'ALL')\n",
      "RAW 16S\n",
      "RAW MTG\n",
      "RAW MTT\n",
      "RAW MBX\n",
      "RAW ALL\n",
      "('16S', 'MTG', 'MTT', 'MBX', 'ALL')\n",
      "RAW 16S\n",
      "RAW MTG\n",
      "RAW MTT\n",
      "RAW MBX\n",
      "RAW ALL\n",
      "nonceliac_sensitivity\n",
      "('16S', 'MTG', 'MTT', 'MBX', 'ALL')\n",
      "RAW 16S\n",
      "RAW MTG\n",
      "RAW MTT\n",
      "RAW MBX\n",
      "RAW ALL\n",
      "('16S', 'MTG', 'MTT', 'MBX', 'ALL')\n",
      "RAW 16S\n",
      "RAW MTG\n",
      "RAW MTT\n",
      "RAW MBX\n",
      "RAW ALL\n"
     ]
    },
    {
     "data": {
      "image/png": "[encoded data removed]",
      "text/plain": [
       "<Figure size 432x288 with 1 Axes>"
      ]
     },
     "metadata": {
      "needs_background": "light"
     },
     "output_type": "display_data"
    },
    {
     "data": {
      "image/png": "[encoded data removed]",
      "text/plain": [
       "<Figure size 432x288 with 1 Axes>"
      ]
     },
     "metadata": {
      "needs_background": "light"
     },
     "output_type": "display_data"
    },
    {
     "data": {
      "image/png": "[encoded data removed]",
      "text/plain": [
       "<Figure size 432x288 with 1 Axes>"
      ]
     },
     "metadata": {
      "needs_background": "light"
     },
     "output_type": "display_data"
    },
    {
     "data": {
      "image/png": "[encoded data removed]",
      "text/plain": [
       "<Figure size 432x288 with 1 Axes>"
      ]
     },
     "metadata": {
      "needs_background": "light"
     },
     "output_type": "display_data"
    }
   ],
   "source": [
    "criteria_list_notransform = ['multivitamin', 'phenotype', \"dietary_supplement\", \"nonceliac_sensitivity\"]\n",
    "for criteria in criteria_list_notransform:\n",
    "    print(criteria)\n",
    "    res_raw, res_encode = runCompareOmicsPipeline(data_storage, encoded_storage, mapping_storage, train_bool, test_bool,\n",
    "                                              criteria, 'rf', transform = None)\n",
    "    tmp[criteria] = res_raw +  res_encode"
   ]
  },
  {
   "cell_type": "code",
   "execution_count": 201,
   "metadata": {},
   "outputs": [
    {
     "data": {
      "text/html": [
       "<div>\n",
       "<style scoped>\n",
       "    .dataframe tbody tr th:only-of-type {\n",
       "        vertical-align: middle;\n",
       "    }\n",
       "\n",
       "    .dataframe tbody tr th {\n",
       "        vertical-align: top;\n",
       "    }\n",
       "\n",
       "    .dataframe thead th {\n",
       "        text-align: right;\n",
       "    }\n",
       "</style>\n",
       "<table border=\"1\" class=\"dataframe\">\n",
       "  <thead>\n",
       "    <tr style=\"text-align: right;\">\n",
       "      <th></th>\n",
       "      <th>fruit</th>\n",
       "      <th>vegetable</th>\n",
       "      <th>multivitamin</th>\n",
       "      <th>phenotype</th>\n",
       "      <th>dietary_supplement</th>\n",
       "      <th>nonceliac_sensitivity</th>\n",
       "    </tr>\n",
       "  </thead>\n",
       "  <tbody>\n",
       "    <tr>\n",
       "      <th>raw_16S</th>\n",
       "      <td>-0.392685</td>\n",
       "      <td>0.106511</td>\n",
       "      <td>-0.063281</td>\n",
       "      <td>NaN</td>\n",
       "      <td>0.280884</td>\n",
       "      <td>-0.251342</td>\n",
       "    </tr>\n",
       "    <tr>\n",
       "      <th>raw_MTG</th>\n",
       "      <td>0.257351</td>\n",
       "      <td>0.159633</td>\n",
       "      <td>-0.301527</td>\n",
       "      <td>NaN</td>\n",
       "      <td>-0.824172</td>\n",
       "      <td>0.139107</td>\n",
       "    </tr>\n",
       "    <tr>\n",
       "      <th>raw_MTT</th>\n",
       "      <td>0.257351</td>\n",
       "      <td>0.159633</td>\n",
       "      <td>-0.301527</td>\n",
       "      <td>NaN</td>\n",
       "      <td>-0.824172</td>\n",
       "      <td>0.139107</td>\n",
       "    </tr>\n",
       "    <tr>\n",
       "      <th>raw_MBX</th>\n",
       "      <td>0.276176</td>\n",
       "      <td>0.332535</td>\n",
       "      <td>-0.202571</td>\n",
       "      <td>NaN</td>\n",
       "      <td>0.786667</td>\n",
       "      <td>-0.194529</td>\n",
       "    </tr>\n",
       "    <tr>\n",
       "      <th>raw_ALL</th>\n",
       "      <td>0.390866</td>\n",
       "      <td>-0.010993</td>\n",
       "      <td>-0.283605</td>\n",
       "      <td>NaN</td>\n",
       "      <td>0.098233</td>\n",
       "      <td>0.072136</td>\n",
       "    </tr>\n",
       "    <tr>\n",
       "      <th>autoencode_16S</th>\n",
       "      <td>-0.331086</td>\n",
       "      <td>0.398788</td>\n",
       "      <td>0.301371</td>\n",
       "      <td>NaN</td>\n",
       "      <td>0.020665</td>\n",
       "      <td>-0.171652</td>\n",
       "    </tr>\n",
       "    <tr>\n",
       "      <th>autoencode_MTG</th>\n",
       "      <td>0.457401</td>\n",
       "      <td>-0.327698</td>\n",
       "      <td>-0.145808</td>\n",
       "      <td>NaN</td>\n",
       "      <td>0.161726</td>\n",
       "      <td>-0.022948</td>\n",
       "    </tr>\n",
       "    <tr>\n",
       "      <th>autoencode_MTT</th>\n",
       "      <td>0.497518</td>\n",
       "      <td>-0.024690</td>\n",
       "      <td>-0.220589</td>\n",
       "      <td>NaN</td>\n",
       "      <td>0.268758</td>\n",
       "      <td>0.118018</td>\n",
       "    </tr>\n",
       "    <tr>\n",
       "      <th>autoencode_MBX</th>\n",
       "      <td>0.017616</td>\n",
       "      <td>0.435837</td>\n",
       "      <td>-0.234263</td>\n",
       "      <td>NaN</td>\n",
       "      <td>0.057398</td>\n",
       "      <td>-0.257894</td>\n",
       "    </tr>\n",
       "    <tr>\n",
       "      <th>autoencode_ALL</th>\n",
       "      <td>-0.297365</td>\n",
       "      <td>0.500085</td>\n",
       "      <td>0.080801</td>\n",
       "      <td>NaN</td>\n",
       "      <td>0.601747</td>\n",
       "      <td>-0.324197</td>\n",
       "    </tr>\n",
       "  </tbody>\n",
       "</table>\n",
       "</div>"
      ],
      "text/plain": [
       "                   fruit  vegetable  multivitamin  phenotype  \\\n",
       "raw_16S        -0.392685   0.106511     -0.063281        NaN   \n",
       "raw_MTG         0.257351   0.159633     -0.301527        NaN   \n",
       "raw_MTT         0.257351   0.159633     -0.301527        NaN   \n",
       "raw_MBX         0.276176   0.332535     -0.202571        NaN   \n",
       "raw_ALL         0.390866  -0.010993     -0.283605        NaN   \n",
       "autoencode_16S -0.331086   0.398788      0.301371        NaN   \n",
       "autoencode_MTG  0.457401  -0.327698     -0.145808        NaN   \n",
       "autoencode_MTT  0.497518  -0.024690     -0.220589        NaN   \n",
       "autoencode_MBX  0.017616   0.435837     -0.234263        NaN   \n",
       "autoencode_ALL -0.297365   0.500085      0.080801        NaN   \n",
       "\n",
       "                dietary_supplement  nonceliac_sensitivity  \n",
       "raw_16S                   0.280884              -0.251342  \n",
       "raw_MTG                  -0.824172               0.139107  \n",
       "raw_MTT                  -0.824172               0.139107  \n",
       "raw_MBX                   0.786667              -0.194529  \n",
       "raw_ALL                   0.098233               0.072136  \n",
       "autoencode_16S            0.020665              -0.171652  \n",
       "autoencode_MTG            0.161726              -0.022948  \n",
       "autoencode_MTT            0.268758               0.118018  \n",
       "autoencode_MBX            0.057398              -0.257894  \n",
       "autoencode_ALL            0.601747              -0.324197  "
      ]
     },
     "execution_count": 201,
     "metadata": {},
     "output_type": "execute_result"
    }
   ],
   "source": [
    "tmp"
   ]
  },
  {
   "cell_type": "code",
   "execution_count": 202,
   "metadata": {},
   "outputs": [],
   "source": [
    "tmp.to_csv(\"performance_autoencoding.csv\")"
   ]
  },
  {
   "cell_type": "markdown",
   "metadata": {},
   "source": [
    "# Sqrt and centered"
   ]
  }
 ],
 "metadata": {
  "kernelspec": {
   "display_name": "Python 3",
   "language": "python",
   "name": "python3"
  },
  "language_info": {
   "codemirror_mode": {
    "name": "ipython",
    "version": 3
   },
   "file_extension": ".py",
   "mimetype": "text/x-python",
   "name": "python",
   "nbconvert_exporter": "python",
   "pygments_lexer": "ipython3",
   "version": "3.8.5"
  }
 },
 "nbformat": 4,
 "nbformat_minor": 4
}
